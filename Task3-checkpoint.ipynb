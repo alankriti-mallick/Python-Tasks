{
 "cells": [
  {
   "cell_type": "code",
   "execution_count": 9,
   "metadata": {},
   "outputs": [
    {
     "name": "stdout",
     "output_type": "stream",
     "text": [
      "Enter the words: hi there my name is alankriti\n",
      "Length of the longest word:  9\n"
     ]
    }
   ],
   "source": [
    "words= input(\"Enter the words: \")\n",
    "wd= words.split(' ')\n",
    "\n",
    "maxlen=0\n",
    "\n",
    "for i in wd:\n",
    "    if len(i)>=maxlen:\n",
    "        maxlen=len(i)\n",
    "print(\"Length of the longest word: \", maxlen)"
   ]
  }
 ],
 "metadata": {
  "kernelspec": {
   "display_name": "Python 3",
   "language": "python",
   "name": "python3"
  },
  "language_info": {
   "codemirror_mode": {
    "name": "ipython",
    "version": 3
   },
   "file_extension": ".py",
   "mimetype": "text/x-python",
   "name": "python",
   "nbconvert_exporter": "python",
   "pygments_lexer": "ipython3",
   "version": "3.7.4"
  }
 },
 "nbformat": 4,
 "nbformat_minor": 2
}
