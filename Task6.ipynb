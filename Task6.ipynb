{
 "cells": [
  {
   "cell_type": "code",
   "execution_count": 7,
   "metadata": {},
   "outputs": [
    {
     "name": "stdout",
     "output_type": "stream",
     "text": [
      "Enter side 1 of Triangle: 11\n",
      "Enter side 2 of Triangle: 1\n",
      "Enter side 3 of Triangle: 2\n",
      "Scalene Triangle\n"
     ]
    }
   ],
   "source": [
    "a= int(input(\"Enter side 1 of Triangle: \"))\n",
    "b= int(input(\"Enter side 2 of Triangle: \"))\n",
    "c= int(input(\"Enter side 3 of Triangle: \"))\n",
    "\n",
    "if a==b and b==c:\n",
    "    print(\"Equilateral Triangle\")\n",
    "elif a==b and b!=c or a==c and b!=c or b==c and c!=a:\n",
    "    print(\"Isosceles Triangle\")\n",
    "else: print(\"Scalene Triangle\")"
   ]
  }
 ],
 "metadata": {
  "kernelspec": {
   "display_name": "Python 3",
   "language": "python",
   "name": "python3"
  },
  "language_info": {
   "codemirror_mode": {
    "name": "ipython",
    "version": 3
   },
   "file_extension": ".py",
   "mimetype": "text/x-python",
   "name": "python",
   "nbconvert_exporter": "python",
   "pygments_lexer": "ipython3",
   "version": "3.7.4"
  }
 },
 "nbformat": 4,
 "nbformat_minor": 2
}
