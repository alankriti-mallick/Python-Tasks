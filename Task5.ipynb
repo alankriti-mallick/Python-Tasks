{
 "cells": [
  {
   "cell_type": "code",
   "execution_count": 9,
   "metadata": {},
   "outputs": [
    {
     "name": "stdout",
     "output_type": "stream",
     "text": [
      "Input the name of Month: march\n",
      "no. of days: 31\n"
     ]
    }
   ],
   "source": [
    "month= input('Input the name of Month: ')\n",
    "mth= month.lower()\n",
    "\n",
    "print(\"no. of days: \", end='')\n",
    "if(mth=='january' or mth=='march' or mth=='may' or mth=='july' or mth=='august' or mth=='october' or mth=='december'):\n",
    "    print(\"31\")\n",
    "elif(mth=='april' or mth=='june' or mth=='september' or mth=='november'):\n",
    "    print(\"30\")\n",
    "elif(mth=='february'):\n",
    "    print(\"28 (29 if leap year)\")\n",
    "else: print(\"INVALID ENTRY\")"
   ]
  }
 ],
 "metadata": {
  "kernelspec": {
   "display_name": "Python 3",
   "language": "python",
   "name": "python3"
  },
  "language_info": {
   "codemirror_mode": {
    "name": "ipython",
    "version": 3
   },
   "file_extension": ".py",
   "mimetype": "text/x-python",
   "name": "python",
   "nbconvert_exporter": "python",
   "pygments_lexer": "ipython3",
   "version": "3.7.4"
  }
 },
 "nbformat": 4,
 "nbformat_minor": 2
}
