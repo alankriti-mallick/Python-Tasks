{
 "cells": [
  {
   "cell_type": "code",
   "execution_count": 11,
   "metadata": {},
   "outputs": [
    {
     "name": "stdout",
     "output_type": "stream",
     "text": [
      "Enter file name: C:\\Users\\Ribhu\\Desktop\\My Folder\\Study\\Computer\\PYTHON\\abc.docx\n",
      "docx\n"
     ]
    }
   ],
   "source": [
    "fn= str(input(\"Enter file name: \")) #Entering file name\n",
    "\n",
    "i= fn.rindex('.')\n",
    "\n",
    "print(fn[i+1:len(fn)+1])"
   ]
  }
 ],
 "metadata": {
  "kernelspec": {
   "display_name": "Python 3",
   "language": "python",
   "name": "python3"
  },
  "language_info": {
   "codemirror_mode": {
    "name": "ipython",
    "version": 3
   },
   "file_extension": ".py",
   "mimetype": "text/x-python",
   "name": "python",
   "nbconvert_exporter": "python",
   "pygments_lexer": "ipython3",
   "version": "3.7.4"
  }
 },
 "nbformat": 4,
 "nbformat_minor": 2
}
