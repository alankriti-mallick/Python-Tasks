{
 "cells": [
  {
   "cell_type": "code",
   "execution_count": 4,
   "metadata": {},
   "outputs": [
    {
     "name": "stdout",
     "output_type": "stream",
     "text": [
      "Enter numbers: 1 2 3 4 5 6 7 8 9\n",
      "Number of even numbers:  4 \n",
      "Number of odd numbers:  5\n"
     ]
    }
   ],
   "source": [
    "num= input(\"Enter numbers: \")\n",
    "numlist= num.split( )\n",
    "\n",
    "oddnum=0\n",
    "evennum=0\n",
    "\n",
    "for i in numlist:\n",
    "    if int(i)%2==0:\n",
    "        evennum=evennum+1\n",
    "    else:\n",
    "        oddnum=oddnum+1\n",
    "\n",
    "print(\"Number of even numbers: \",evennum,\"\\nNumber of odd numbers: \",oddnum)"
   ]
  }
 ],
 "metadata": {
  "kernelspec": {
   "display_name": "Python 3",
   "language": "python",
   "name": "python3"
  },
  "language_info": {
   "codemirror_mode": {
    "name": "ipython",
    "version": 3
   },
   "file_extension": ".py",
   "mimetype": "text/x-python",
   "name": "python",
   "nbconvert_exporter": "python",
   "pygments_lexer": "ipython3",
   "version": "3.7.4"
  }
 },
 "nbformat": 4,
 "nbformat_minor": 2
}
