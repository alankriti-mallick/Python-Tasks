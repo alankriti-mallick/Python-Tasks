{
 "cells": [
  {
   "cell_type": "code",
   "execution_count": 5,
   "metadata": {},
   "outputs": [
    {
     "name": "stdout",
     "output_type": "stream",
     "text": [
      "Enter numbers: 8 2 3 -1 7\n",
      "-336\n"
     ]
    }
   ],
   "source": [
    "num= input(\"Enter numbers: \")\n",
    "numlist= num.split( )\n",
    "\n",
    "prod= 1\n",
    "\n",
    "for i in numlist:\n",
    "    prod= prod* int(i)\n",
    "\n",
    "print(prod)"
   ]
  }
 ],
 "metadata": {
  "kernelspec": {
   "display_name": "Python 3",
   "language": "python",
   "name": "python3"
  },
  "language_info": {
   "codemirror_mode": {
    "name": "ipython",
    "version": 3
   },
   "file_extension": ".py",
   "mimetype": "text/x-python",
   "name": "python",
   "nbconvert_exporter": "python",
   "pygments_lexer": "ipython3",
   "version": "3.7.4"
  }
 },
 "nbformat": 4,
 "nbformat_minor": 2
}
