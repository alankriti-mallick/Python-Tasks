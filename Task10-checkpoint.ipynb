{
 "cells": [
  {
   "cell_type": "code",
   "execution_count": 5,
   "metadata": {},
   "outputs": [
    {
     "name": "stdout",
     "output_type": "stream",
     "text": [
      "Enter length of rectangle: 5\n",
      "Enter breadth of rectangle: 2\n",
      "Area:  10\n"
     ]
    }
   ],
   "source": [
    "class Rectangle:\n",
    "    def area(ln,bd):\n",
    "        print(\"Area: \", ln*bd)\n",
    "    \n",
    "    if __name__==\"__main__\":\n",
    "        l= int(input(\"Enter length of rectangle: \"))\n",
    "        b= int(input(\"Enter breadth of rectangle: \"))\n",
    "        area(l,b)"
   ]
  }
 ],
 "metadata": {
  "kernelspec": {
   "display_name": "Python 3",
   "language": "python",
   "name": "python3"
  },
  "language_info": {
   "codemirror_mode": {
    "name": "ipython",
    "version": 3
   },
   "file_extension": ".py",
   "mimetype": "text/x-python",
   "name": "python",
   "nbconvert_exporter": "python",
   "pygments_lexer": "ipython3",
   "version": "3.7.4"
  }
 },
 "nbformat": 4,
 "nbformat_minor": 2
}
