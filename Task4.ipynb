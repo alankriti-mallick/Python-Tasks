{
 "cells": [
  {
   "cell_type": "code",
   "execution_count": 3,
   "metadata": {},
   "outputs": [
    {
     "name": "stdout",
     "output_type": "stream",
     "text": [
      "Enter a word: Hello\n",
      "Word in upper case: HELLO\n",
      "Word in lower case: hello\n"
     ]
    }
   ],
   "source": [
    "w= input(\"Enter a word: \")\n",
    "\n",
    "wUp= w.upper()\n",
    "wLo= w.lower()\n",
    "\n",
    "print(\"Word in upper case: \"+wUp+\"\\nWord in lower case: \"+wLo)"
   ]
  },
  {
   "cell_type": "code",
   "execution_count": null,
   "metadata": {},
   "outputs": [],
   "source": []
  }
 ],
 "metadata": {
  "kernelspec": {
   "display_name": "Python 3",
   "language": "python",
   "name": "python3"
  },
  "language_info": {
   "codemirror_mode": {
    "name": "ipython",
    "version": 3
   },
   "file_extension": ".py",
   "mimetype": "text/x-python",
   "name": "python",
   "nbconvert_exporter": "python",
   "pygments_lexer": "ipython3",
   "version": "3.7.4"
  }
 },
 "nbformat": 4,
 "nbformat_minor": 2
}
